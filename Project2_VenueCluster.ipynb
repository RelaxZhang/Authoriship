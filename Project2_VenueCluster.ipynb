{
 "cells": [
  {
   "cell_type": "code",
   "execution_count": 1,
   "metadata": {},
   "outputs": [],
   "source": [
    "import json\n",
    "import numpy as np\n",
    "from numpy import mean\n",
    "import pandas as pd\n",
    "import matplotlib.pyplot as plt\n",
    "from sklearn.neural_network import MLPClassifier\n",
    "from skmultilearn.problem_transform import LabelPowerset, BinaryRelevance, ClassifierChain\n",
    "from sklearn.naive_bayes import GaussianNB, MultinomialNB, BernoulliNB, CategoricalNB\n",
    "from sklearn.svm import SVC\n",
    "import collections\n",
    "from math import log10\n",
    "from sklearn.model_selection import train_test_split\n",
    "from sklearn.metrics import accuracy_score, hamming_loss, f1_score\n",
    "from SMLP2_Func_Redundant import generate_coauthors, onehot_func, coauthors_onehot, decode_func, convert_to_csv, train_grouped_df, sub_split_authors, sub_onehot\n",
    "import warnings\n",
    "warnings.filterwarnings(\"ignore\")"
   ]
  },
  {
   "cell_type": "markdown",
   "metadata": {},
   "source": [
    "## Read in Training and Test Data as Dataframe"
   ]
  },
  {
   "cell_type": "code",
   "execution_count": 2,
   "metadata": {},
   "outputs": [],
   "source": [
    "f = open('train.json')\n",
    "train_data = json.load(f)\n",
    "train_X = pd.DataFrame(columns=[\"year\", \"venue\", \"title\", \"abstract\"])\n",
    "train_y = pd.DataFrame(columns=[\"authors\"])\n",
    "authors_list = []\n",
    "year_list = []\n",
    "venue_list = []\n",
    "title_list = []\n",
    "abstract_list = []\n",
    "for i in range(len(train_data)): \n",
    "    authors_list.append(np.array(train_data[i]['authors']))\n",
    "    year_list.append(np.array(train_data[i]['year']))\n",
    "    venue_list.append(np.array(train_data[i]['venue']))\n",
    "    title_list.append(np.array(train_data[i]['title']))\n",
    "    abstract_list.append(np.array(train_data[i]['abstract']))\n",
    "\n",
    "train_y[\"authors\"] = authors_list\n",
    "train_X[\"year\"] = year_list\n",
    "train_X[\"venue\"] = venue_list\n",
    "train_X[\"title\"] = title_list\n",
    "train_X[\"abstract\"] = abstract_list"
   ]
  },
  {
   "cell_type": "code",
   "execution_count": 3,
   "metadata": {},
   "outputs": [],
   "source": [
    "f = open('test.json')\n",
    "test_data = json.load(f)\n",
    "test_X = pd.DataFrame(columns=[\"year\", \"venue\", \"title\", \"abstract\"])\n",
    "coauthors_list = []\n",
    "year_list = []\n",
    "venue_list = []\n",
    "title_list = []\n",
    "abstract_list = []\n",
    "for i in range(len(test_data)): \n",
    "    coauthors_list.append(np.array(test_data[i]['coauthors']))\n",
    "    year_list.append(np.array(test_data[i]['year']))\n",
    "    venue_list.append(np.array(test_data[i]['venue']))\n",
    "    title_list.append(np.array(test_data[i]['title']))\n",
    "    abstract_list.append(np.array(test_data[i]['abstract']))\n",
    "\n",
    "test_X[\"year\"] = year_list\n",
    "test_X[\"venue\"] = venue_list\n",
    "test_X[\"title\"] = title_list\n",
    "test_X[\"abstract\"] = abstract_list\n",
    "test_X[\"coauthors\"] = coauthors_list"
   ]
  },
  {
   "cell_type": "markdown",
   "metadata": {},
   "source": [
    "## Define Variables"
   ]
  },
  {
   "cell_type": "code",
   "execution_count": 4,
   "metadata": {},
   "outputs": [],
   "source": [
    "wordbag_len = 4999\n",
    "authors_num = 21245\n",
    "prolific_num = 100\n",
    "venue_num = 465"
   ]
  },
  {
   "cell_type": "markdown",
   "metadata": {},
   "source": [
    "## Splitting Authors' list into Response (Profilic Authors) & Predictors (Co-Authors)\n",
    "## Convert Features 'title', 'abstract', 'coauthors' & 'authors' into One-hot Encoding Style"
   ]
  },
  {
   "cell_type": "code",
   "execution_count": 5,
   "metadata": {},
   "outputs": [],
   "source": [
    "train_group_dflist, train_y_dflist = train_grouped_df(train_y, train_X, venue_num)\n",
    "train_group_dflist, train_y_dflist = sub_split_authors(train_group_dflist, train_y_dflist)\n",
    "train_group_dflist, train_y_dflist = sub_onehot(train_group_dflist, train_y_dflist, wordbag_len, authors_num, prolific_num, venue_num)\n",
    "\n",
    "test_X = onehot_func(wordbag_len, test_X, \"title\")\n",
    "test_X = onehot_func(wordbag_len, test_X, \"abstract\")\n",
    "test_X = onehot_func(authors_num, test_X, \"coauthors\")\n",
    "test_X = coauthors_onehot(prolific_num, test_X, \"coauthors\")\n",
    "\n",
    "coauthors_list_test = []\n",
    "for title in np.array(test_X['coauthors']): \n",
    "    coauthors_list_test.append(list(title))\n",
    "x_list_test = np.array(coauthors_list_test)"
   ]
  },
  {
   "cell_type": "code",
   "execution_count": 6,
   "metadata": {},
   "outputs": [],
   "source": [
    "model_list = []\n",
    "for i in range(len(train_group_dflist)): \n",
    "    coauthors_list = []\n",
    "    for j in np.array(train_group_dflist[i]['coauthors']): \n",
    "        coauthors_list.append(list(j))\n",
    "    x_list = np.array(coauthors_list)\n",
    "\n",
    "    y_list = []\n",
    "    for j in np.array(train_y_dflist[i]['authors']): \n",
    "        y_list.append(list(j))\n",
    "    y_list = np.array(y_list)\n",
    "\n",
    "    classifier = LabelPowerset(GaussianNB())\n",
    "    if train_group_dflist[i].shape[0] == 0:\n",
    "        model_list.append(\"NO_MODEL\")\n",
    "    else:\n",
    "        model_list.append(classifier.fit(x_list, y_list))"
   ]
  },
  {
   "cell_type": "code",
   "execution_count": null,
   "metadata": {},
   "outputs": [],
   "source": [
    "y_pred_list = []\n",
    "for i in range(len(x_list_test)):\n",
    "    venue_num = (test_X.iloc[i][\"venue\"])\n",
    "    if venue_num != \"\":\n",
    "        if model_list[venue_num] == \"NO_MODEL\":\n",
    "            y_pred_list.append(-1)\n",
    "        else:\n",
    "            y_pred_list.append(model_list[venue_num].predict(np.array([list(x_list_test[i])])))\n",
    "    else:\n",
    "        y_pred_list.append(model_list[-1].predict(np.array([list(x_list_test[i])])))"
   ]
  },
  {
   "cell_type": "code",
   "execution_count": null,
   "metadata": {},
   "outputs": [],
   "source": [
    "output = []\n",
    "for i in range(len(y_pred_list)):\n",
    "    if type(y_pred_list[i]) == int:\n",
    "        output.append(-1)\n",
    "    else:\n",
    "        if sum(sum(y_pred_list[i].toarray())) == 0:\n",
    "            output.append(-1)\n",
    "        else:\n",
    "            non_zeros = []\n",
    "            y_hat = y_pred_list[i].toarray()[0]\n",
    "            for i in range(len(y_hat)): \n",
    "                if y_hat[i] == 1:\n",
    "                    non_zeros.append(i+1)\n",
    "            output.append(' '.join(map(str, non_zeros)))\n",
    "convert_to_csv(output)"
   ]
  }
 ],
 "metadata": {
  "kernelspec": {
   "display_name": "Python 3.9.12 ('base')",
   "language": "python",
   "name": "python3"
  },
  "language_info": {
   "codemirror_mode": {
    "name": "ipython",
    "version": 3
   },
   "file_extension": ".py",
   "mimetype": "text/x-python",
   "name": "python",
   "nbconvert_exporter": "python",
   "pygments_lexer": "ipython3",
   "version": "3.9.12"
  },
  "orig_nbformat": 4,
  "vscode": {
   "interpreter": {
    "hash": "40d3a090f54c6569ab1632332b64b2c03c39dcf918b08424e98f38b5ae0af88f"
   }
  }
 },
 "nbformat": 4,
 "nbformat_minor": 2
}
