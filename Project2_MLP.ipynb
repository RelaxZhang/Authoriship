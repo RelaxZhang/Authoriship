{
 "cells": [
  {
   "cell_type": "markdown",
   "metadata": {},
   "source": [
    "# MLP Approach with Different Extra Implemented Algorithm"
   ]
  },
  {
   "cell_type": "code",
   "execution_count": null,
   "metadata": {},
   "outputs": [],
   "source": [
    "import json\n",
    "import numpy as np\n",
    "import pandas as pd\n",
    "import matplotlib.pyplot as plt\n",
    "from sklearn.neural_network import MLPClassifier\n",
    "import os\n",
    "from SMLP2_Func import generate_coauthors, onehot_func, coauthors_onehot\n",
    "from sklearn.model_selection import train_test_split\n",
    "from keras.models import Sequential\n",
    "from keras.layers import Activation, Dense\n",
    "from sklearn.metrics import accuracy_score, hamming_loss, f1_score\n",
    "from numpy import mean\n",
    "from numpy import std\n",
    "from sklearn.datasets import make_multilabel_classification\n",
    "from sklearn.model_selection import RepeatedKFold\n",
    "from tensorflow import keras\n",
    "from keras.models import Sequential\n",
    "from keras.layers import Dense\n",
    "from sklearn.metrics import accuracy_score\n",
    "from SMLP2_Func import decode_func\n",
    "import tensorflow as tf\n"
   ]
  },
  {
   "cell_type": "markdown",
   "metadata": {},
   "source": [
    "## Read in Training and Test Data as Dataframe"
   ]
  },
  {
   "cell_type": "code",
   "execution_count": null,
   "metadata": {},
   "outputs": [],
   "source": [
    "print(\"Num GPUs Available: \", len(tf.config.list_physical_devices('GPU')))"
   ]
  },
  {
   "cell_type": "code",
   "execution_count": null,
   "metadata": {},
   "outputs": [],
   "source": [
    "f = open('train.json')\n",
    "train_data = json.load(f)\n",
    "train_X = pd.DataFrame(columns=[\"year\", \"venue\", \"title\", \"abstract\"])\n",
    "train_y = pd.DataFrame(columns=[\"authors\"])\n",
    "authors_list = []\n",
    "year_list = []\n",
    "venue_list = []\n",
    "title_list = []\n",
    "abstract_list = []\n",
    "for i in range(len(train_data)): \n",
    "    authors_list.append(np.array(train_data[i]['authors']))\n",
    "    year_list.append(np.array(train_data[i]['year']))\n",
    "    venue_list.append(np.array(train_data[i]['venue']))\n",
    "    title_list.append(np.array(train_data[i]['title']))\n",
    "    abstract_list.append(np.array(train_data[i]['abstract']))\n",
    "\n",
    "train_y[\"authors\"] = authors_list\n",
    "train_X[\"year\"] = year_list\n",
    "train_X[\"venue\"] = venue_list\n",
    "train_X[\"title\"] = title_list\n",
    "train_X[\"abstract\"] = abstract_list"
   ]
  },
  {
   "cell_type": "code",
   "execution_count": null,
   "metadata": {},
   "outputs": [],
   "source": [
    "f = open('test.json')\n",
    "test_data = json.load(f)\n",
    "test_X = pd.DataFrame(columns=[\"year\", \"venue\", \"title\", \"abstract\"])\n",
    "coauthors_list = []\n",
    "year_list = []\n",
    "venue_list = []\n",
    "title_list = []\n",
    "abstract_list = []\n",
    "for i in range(len(test_data)): \n",
    "    coauthors_list.append(np.array(test_data[i]['coauthors']))\n",
    "    year_list.append(np.array(test_data[i]['year']))\n",
    "    venue_list.append(np.array(test_data[i]['venue']))\n",
    "    title_list.append(np.array(test_data[i]['title']))\n",
    "    abstract_list.append(np.array(test_data[i]['abstract']))\n",
    "\n",
    "test_X[\"year\"] = year_list\n",
    "test_X[\"venue\"] = venue_list\n",
    "test_X[\"title\"] = title_list\n",
    "test_X[\"abstract\"] = abstract_list\n",
    "test_X[\"coauthors\"] = coauthors_list\n"
   ]
  },
  {
   "cell_type": "markdown",
   "metadata": {},
   "source": [
    "## Define Variables"
   ]
  },
  {
   "cell_type": "code",
   "execution_count": null,
   "metadata": {},
   "outputs": [],
   "source": [
    "wordbag_len = 4999\n",
    "authors_num = 21245\n",
    "profilic_num = 100\n",
    "profilic_end = 99\n",
    "venue_num = 465"
   ]
  },
  {
   "cell_type": "markdown",
   "metadata": {},
   "source": [
    "## Splitting Authors' list into Response (Profilic Authors) & Predictors (Co-Authors)"
   ]
  },
  {
   "cell_type": "code",
   "execution_count": null,
   "metadata": {},
   "outputs": [],
   "source": [
    "prolific_authors_list = []\n",
    "coauthors_list = []\n",
    "for authors in authors_list: \n",
    "    prolific_authors, coauthors = generate_coauthors(authors)\n",
    "    prolific_authors_list.append(prolific_authors)\n",
    "    coauthors_list.append(coauthors)\n",
    "\n",
    "train_y[\"authors\"] = prolific_authors_list\n",
    "train_X[\"coauthors\"] = coauthors_list"
   ]
  },
  {
   "cell_type": "markdown",
   "metadata": {},
   "source": [
    "### Potential Method (Single Label) Accompanied with the MLP"
   ]
  },
  {
   "cell_type": "code",
   "execution_count": null,
   "metadata": {},
   "outputs": [],
   "source": [
    "# for i in range(len(train_y)): \n",
    "#     if len(train_y[\"authors\"][i]) >= 1: \n",
    "#         train_y[\"authors\"][i] = [train_y[\"authors\"][i][0]]"
   ]
  },
  {
   "cell_type": "markdown",
   "metadata": {},
   "source": [
    "## Convert Features 'title', 'abstract', 'coauthors' & 'authors' into One-hot Encoding Style"
   ]
  },
  {
   "cell_type": "code",
   "execution_count": null,
   "metadata": {},
   "outputs": [],
   "source": [
    "train_X = onehot_func(wordbag_len, train_X, \"title\")\n",
    "train_X = onehot_func(wordbag_len, train_X, \"abstract\")\n",
    "train_X = onehot_func(authors_num, train_X, \"coauthors\")\n",
    "train_X = coauthors_onehot(profilic_end, train_X, \"coauthors\")\n",
    "train_X = onehot_func(venue_num, train_X, \"venue\")\n",
    "train_y = onehot_func(profilic_num, train_y, \"authors\")\n",
    "\n",
    "test_X = onehot_func(wordbag_len, test_X, \"title\")\n",
    "test_X = onehot_func(wordbag_len, test_X, \"abstract\")\n",
    "test_X = onehot_func(authors_num, test_X, \"coauthors\")\n",
    "test_X = coauthors_onehot(profilic_end, test_X, \"coauthors\")\n",
    "test_X = onehot_func(venue_num, test_X, \"venue\")"
   ]
  },
  {
   "cell_type": "markdown",
   "metadata": {},
   "source": [
    "### Potential Method (Removing Non-Prolific Authors Instance) Accompanied with MLP"
   ]
  },
  {
   "cell_type": "code",
   "execution_count": null,
   "metadata": {},
   "outputs": [],
   "source": [
    "# empty_row = []\n",
    "# for i in range(len(train_y['authors'])):\n",
    "#     if sum(train_y['authors'][i]) == 0:\n",
    "#         empty_row.append(i)\n",
    "# train_y_empty = train_y.iloc[empty_row]\n",
    "# train_y_empty = train_y_empty.sample(n = 6000)\n",
    "# indexdrop = train_y_empty.index\n",
    "# train_y.drop(indexdrop, axis = 0, inplace = True)\n",
    "# train_X.drop(indexdrop, axis = 0, inplace = True)"
   ]
  },
  {
   "cell_type": "markdown",
   "metadata": {},
   "source": [
    "### Extract X, Y Variable(s)"
   ]
  },
  {
   "cell_type": "code",
   "execution_count": null,
   "metadata": {},
   "outputs": [],
   "source": [
    "X_lst = []\n",
    "for title in np.array(train_X['coauthors']): \n",
    "    X_lst.append(list(title))\n",
    "\n",
    "X_array = np.array(X_lst)\n",
    "\n",
    "y_lst = []\n",
    "for author in np.array(train_y['authors']): \n",
    "    y_lst.append(list(author))\n",
    "\n",
    "x_list_test = []\n",
    "for title in np.array(test_X['coauthors']): \n",
    "    x_list_test.append(list(title))\n",
    "x_test_array = np.array(x_list_test)\n",
    "\n",
    "y_array = np.array(y_lst)"
   ]
  },
  {
   "cell_type": "code",
   "execution_count": null,
   "metadata": {},
   "outputs": [],
   "source": [
    "# mlp for multi-label classification\n",
    "threhold = 0.29\n",
    "f1s = []\n",
    "# get the model\n",
    "def get_model(n_inputs, n_outputs):\n",
    "\tmodel = Sequential()\n",
    "\tmodel.add(Dense(20, input_dim=n_inputs, kernel_initializer='he_uniform', activation='relu'))\n",
    "\tmodel.add(Dense(200, activation='relu'))\n",
    "\tmodel.add(Dense(n_outputs, activation='sigmoid'))\n",
    "\t# model.compile(optimizer='adam', loss=f1_loss, metrics=['accuracy', f1])\n",
    "\tmodel.compile(loss='binary_crossentropy', optimizer='adam')\n",
    "\treturn model\n",
    " \n",
    "# evaluate a model using repeated k-fold cross-validation\n",
    "def evaluate_model(X, y, threhold):\n",
    "\tresults = list()\n",
    "\tn_inputs, n_outputs = X.shape[1], y.shape[1]\n",
    "\n",
    "\tX_train, X_test, y_train, y_test = train_test_split(X, y, test_size=0.33, random_state=1)\n",
    "\n",
    "\t# X_train = tf.cast(X_train, tf.float32)\n",
    "\t# X_test = tf.cast(X_test, tf.float32)\n",
    "\t# y_train = tf.cast(y_train, tf.float32)\n",
    "\t# y_test = tf.cast(y_test, tf.float32)\n",
    "\n",
    "\tmodel = get_model(n_inputs, n_outputs)\n",
    "\t# fit model\n",
    "\tmodel.fit(X_train, y_train, verbose=0, epochs=30)\n",
    "\t# make a prediction on the test set\n",
    "\tyhat = model.predict(X_test)\n",
    "\t# round probabilities to class labels\n",
    "\n",
    "\t# yhat = yhat.round()\n",
    "\tyhat = (yhat > threhold).astype(int)\n",
    "\n",
    "\t# calculate accuracy\n",
    "\t# acc = accuracy_score(y_test, yhat)\n",
    "\t# print(\"yessss\")\n",
    "\tf1 = np.mean(f1_score(y_test, yhat, average=None))\n",
    "\t# store result\n",
    "\t# print('>%.3f' % acc)\n",
    "\tprint('>%.3f' % f1)\n",
    "\n",
    "\tdel model\n",
    "\t\n",
    "\treturn yhat, f1\n",
    "\n",
    "# evaluate model\n",
    "for i in np.arange(0.01, 0.5, 0.02): \n",
    "\tprint(i)\n",
    "\ttrain_y_pred, f1 = evaluate_model(X_array, y_array, i)\n",
    "\tf1s.append(f1)\n",
    "\n",
    "# Plot the visuliastion of threshold\n",
    "plt.plot(np.arange(0.01, 0.5, 0.02), f1s)"
   ]
  },
  {
   "cell_type": "code",
   "execution_count": null,
   "metadata": {},
   "outputs": [],
   "source": [
    "def predict_model(X_test, X_train, y_train, threhold):\n",
    "\tresults = list()\n",
    "\tn_inputs, n_outputs = X_test.shape[1], 100\n",
    "\tmodel = get_model(n_inputs, n_outputs)\n",
    "\t# fit model\n",
    "\tmodel.fit(X_train, y_train, verbose=0, epochs=30)\n",
    "\t# make a prediction on the test set\n",
    "\tyhat = model.predict(X_test)\n",
    "\t# round probabilities to class labels\n",
    "\tyhat = (yhat > threhold).astype(int)\n",
    "\t# yhat = yhat.round()\n",
    "\tdel model\n",
    "\treturn yhat"
   ]
  },
  {
   "cell_type": "code",
   "execution_count": null,
   "metadata": {},
   "outputs": [],
   "source": [
    "'''Function for converting the index from one-hot encoding vector style to actual author IDs as output'''\n",
    "def decode_func(y_pred): \n",
    "    output = []\n",
    "    for y_hat in y_pred:\n",
    "        if sum(y_hat) == 0:\n",
    "            output.append(-1)\n",
    "        else: \n",
    "            non_zeros = []\n",
    "            for i in range(len(y_hat)): \n",
    "                if y_hat[i] == 1:\n",
    "                    non_zeros.append(i+1)\n",
    "            output.append(' '.join(map(str, non_zeros)))\n",
    "    return output"
   ]
  },
  {
   "cell_type": "code",
   "execution_count": null,
   "metadata": {},
   "outputs": [],
   "source": [
    "random_state = 100\n",
    "result_dict = {}\n",
    "for i in range(len(test_X)):\n",
    "    result_dict[i] = []\n",
    "for random_state in range(1, random_state):\n",
    "    print(random_state)\n",
    "    X_train, X_test, y_train, y_test = train_test_split(X_array, y_array, test_size=0.33, random_state=random_state)\n",
    "    y_test_pred = predict_model(x_test_array, X_train, y_train, threhold)\n",
    "    y_pred_ids = decode_func(y_test_pred)\n",
    "    output = pd.DataFrame(columns=[\"Id\", \"Predict\"])\n",
    "    output['Id'] = range(len(y_pred_ids))\n",
    "    output[\"Predict\"] = y_pred_ids\n",
    "    for index, row in output.iterrows():\n",
    "        result_dict[index].append(row['Predict'])"
   ]
  },
  {
   "cell_type": "code",
   "execution_count": null,
   "metadata": {},
   "outputs": [],
   "source": [
    "y_pred = predict_model(x_test_array, X_array, y_array, threhold)"
   ]
  },
  {
   "cell_type": "code",
   "execution_count": null,
   "metadata": {},
   "outputs": [],
   "source": [
    "'''Function for converting the index from one-hot encoding vector style to actual author IDs as output'''\n",
    "def decode_func(y_pred): \n",
    "    output = []\n",
    "    for y_hat in y_pred:\n",
    "        if sum(y_hat) == 0:\n",
    "            output.append(-1)\n",
    "        else: \n",
    "            non_zeros = []\n",
    "            for i in range(len(y_hat)): \n",
    "                if y_hat[i] == 1:\n",
    "                    non_zeros.append(i+1)\n",
    "            output.append(' '.join(map(str, non_zeros)))\n",
    "    return output\n",
    "\n",
    "def convert_to_csv(y_pred_ids): \n",
    "    '''Convert output to csv'''\n",
    "    output = pd.DataFrame(columns=[\"Id\", \"Predict\"])\n",
    "    output['Id'] = range(len(y_pred_ids))\n",
    "    output[\"Predict\"] = y_pred_ids\n",
    "    output.to_csv('output.csv', index=False)"
   ]
  },
  {
   "cell_type": "markdown",
   "metadata": {},
   "source": [
    "## Convert the output to CSV"
   ]
  },
  {
   "cell_type": "code",
   "execution_count": null,
   "metadata": {},
   "outputs": [],
   "source": [
    "y_pred_ids = decode_func(y_pred)\n",
    "convert_to_csv(y_pred_ids)"
   ]
  }
 ],
 "metadata": {
  "kernelspec": {
   "display_name": "Python 3.9.12 ('base')",
   "language": "python",
   "name": "python3"
  },
  "language_info": {
   "codemirror_mode": {
    "name": "ipython",
    "version": 3
   },
   "file_extension": ".py",
   "mimetype": "text/x-python",
   "name": "python",
   "nbconvert_exporter": "python",
   "pygments_lexer": "ipython3",
   "version": "3.9.12"
  },
  "orig_nbformat": 4,
  "vscode": {
   "interpreter": {
    "hash": "40d3a090f54c6569ab1632332b64b2c03c39dcf918b08424e98f38b5ae0af88f"
   }
  }
 },
 "nbformat": 4,
 "nbformat_minor": 2
}
