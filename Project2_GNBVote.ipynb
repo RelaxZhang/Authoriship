{
 "cells": [
  {
   "cell_type": "markdown",
   "metadata": {},
   "source": [
    "# GNB with Majority Voting"
   ]
  },
  {
   "cell_type": "code",
   "execution_count": 1,
   "metadata": {},
   "outputs": [],
   "source": [
    "import json\n",
    "import numpy as np\n",
    "from numpy import mean\n",
    "import pandas as pd\n",
    "import matplotlib.pyplot as plt\n",
    "from sklearn.neural_network import MLPClassifier\n",
    "from skmultilearn.problem_transform import LabelPowerset, BinaryRelevance, ClassifierChain\n",
    "from sklearn.naive_bayes import GaussianNB, MultinomialNB, BernoulliNB, CategoricalNB\n",
    "from sklearn.svm import SVC\n",
    "import collections\n",
    "from math import log10\n",
    "from sklearn.model_selection import train_test_split\n",
    "from sklearn.metrics import accuracy_score, hamming_loss, f1_score\n",
    "from SMLP2_Func import generate_coauthors, onehot_func, coauthors_onehot, decode_func, convert_to_csv"
   ]
  },
  {
   "cell_type": "markdown",
   "metadata": {},
   "source": [
    "## Read in Training and Test Data as Dataframe"
   ]
  },
  {
   "cell_type": "code",
   "execution_count": 2,
   "metadata": {},
   "outputs": [],
   "source": [
    "f = open('train.json')\n",
    "train_data = json.load(f)\n",
    "train_X = pd.DataFrame(columns=[\"year\", \"venue\", \"title\", \"abstract\"])\n",
    "train_y = pd.DataFrame(columns=[\"authors\"])\n",
    "authors_list = []\n",
    "year_list = []\n",
    "venue_list = []\n",
    "title_list = []\n",
    "abstract_list = []\n",
    "for i in range(len(train_data)): \n",
    "    authors_list.append(np.array(train_data[i]['authors']))\n",
    "    year_list.append(np.array(train_data[i]['year']))\n",
    "    venue_list.append(np.array(train_data[i]['venue']))\n",
    "    title_list.append(np.array(train_data[i]['title']))\n",
    "    abstract_list.append(np.array(train_data[i]['abstract']))\n",
    "\n",
    "train_y[\"authors\"] = authors_list\n",
    "train_X[\"year\"] = year_list\n",
    "train_X[\"venue\"] = venue_list\n",
    "train_X[\"title\"] = title_list\n",
    "train_X[\"abstract\"] = abstract_list"
   ]
  },
  {
   "cell_type": "code",
   "execution_count": 3,
   "metadata": {},
   "outputs": [],
   "source": [
    "f = open('test.json')\n",
    "test_data = json.load(f)\n",
    "test_X = pd.DataFrame(columns=[\"year\", \"venue\", \"title\", \"abstract\"])\n",
    "coauthors_list = []\n",
    "year_list = []\n",
    "venue_list = []\n",
    "title_list = []\n",
    "abstract_list = []\n",
    "for i in range(len(test_data)): \n",
    "    coauthors_list.append(np.array(test_data[i]['coauthors']))\n",
    "    year_list.append(np.array(test_data[i]['year']))\n",
    "    venue_list.append(np.array(test_data[i]['venue']))\n",
    "    title_list.append(np.array(test_data[i]['title']))\n",
    "    abstract_list.append(np.array(test_data[i]['abstract']))\n",
    "\n",
    "test_X[\"year\"] = year_list\n",
    "test_X[\"venue\"] = venue_list\n",
    "test_X[\"title\"] = title_list\n",
    "test_X[\"abstract\"] = abstract_list\n",
    "test_X[\"coauthors\"] = coauthors_list"
   ]
  },
  {
   "cell_type": "markdown",
   "metadata": {},
   "source": [
    "## Define Variables"
   ]
  },
  {
   "cell_type": "code",
   "execution_count": 4,
   "metadata": {},
   "outputs": [],
   "source": [
    "wordbag_len = 4999\n",
    "authors_num = 21245\n",
    "profilic_num = 100\n",
    "profilic_end = 99\n",
    "venue_num = 465"
   ]
  },
  {
   "cell_type": "markdown",
   "metadata": {},
   "source": [
    "## Splitting Authors' list into Response (Profilic Authors) & Predictors (Co-Authors)"
   ]
  },
  {
   "cell_type": "code",
   "execution_count": 5,
   "metadata": {},
   "outputs": [],
   "source": [
    "prolific_authors_list = []\n",
    "coauthors_list = []\n",
    "for authors in authors_list:\n",
    "    prolific_authors, coauthors = generate_coauthors(authors)\n",
    "    prolific_authors_list.append(prolific_authors)\n",
    "    coauthors_list.append(coauthors)\n",
    "\n",
    "train_y[\"authors\"] = prolific_authors_list\n",
    "train_X[\"coauthors\"] = coauthors_list\n",
    "# for i in range(len(train_y)): \n",
    "#     if len(train_y[\"authors\"][i]) >= 1: \n",
    "#         train_y[\"authors\"][i] = [train_y[\"authors\"][i][0]]"
   ]
  },
  {
   "cell_type": "markdown",
   "metadata": {},
   "source": [
    "## Convert Features 'title', 'abstract', 'coauthors' & 'authors' into One-hot Encoding Style"
   ]
  },
  {
   "cell_type": "code",
   "execution_count": 6,
   "metadata": {},
   "outputs": [],
   "source": [
    "train_X = onehot_func(wordbag_len, train_X, \"title\")\n",
    "train_X = onehot_func(wordbag_len, train_X, \"abstract\")\n",
    "train_X = onehot_func(authors_num, train_X, \"coauthors\")\n",
    "train_X = coauthors_onehot(profilic_end, train_X, \"coauthors\")\n",
    "train_X = onehot_func(venue_num, train_X, \"venue\")\n",
    "train_y = onehot_func(profilic_num, train_y, \"authors\")\n",
    "\n",
    "test_X = onehot_func(wordbag_len, test_X, \"title\")\n",
    "test_X = onehot_func(wordbag_len, test_X, \"abstract\")\n",
    "test_X = onehot_func(authors_num, test_X, \"coauthors\")\n",
    "test_X = coauthors_onehot(profilic_end, test_X, \"coauthors\")\n",
    "test_X = onehot_func(venue_num, test_X, \"venue\")"
   ]
  },
  {
   "cell_type": "code",
   "execution_count": 7,
   "metadata": {},
   "outputs": [],
   "source": [
    "coauthors_list = []\n",
    "for title in np.array(train_X['coauthors']): \n",
    "    coauthors_list.append(list(title))\n",
    "x_list = np.array(coauthors_list)\n",
    "\n",
    "# venue_list = []\n",
    "# for title in np.array(train_X['venue']): \n",
    "#     venue_list.append(list(title))\n",
    "# venue_array = np.array(venue_list)\n",
    "\n",
    "# x_list = np.concatenate((coauthors_array, venue_array), axis = 1)\n",
    "\n",
    "y_list = []\n",
    "for title in np.array(train_y['authors']): \n",
    "    y_list.append(list(title))\n",
    "y_list = np.array(y_list)\n",
    "\n",
    "coauthors_list_test = []\n",
    "for title in np.array(test_X['coauthors']): \n",
    "    coauthors_list_test.append(list(title))\n",
    "x_list_test = np.array(coauthors_list_test)\n",
    "\n",
    "# venue_list_test = []\n",
    "# for title in np.array(test_X['venue']): \n",
    "#     venue_list_test.append(list(title))\n",
    "# venue_test_array = np.array(venue_list_test)\n",
    "\n",
    "# x_list_test = np.concatenate((coauthors_test_array, venue_test_array), axis = 1)"
   ]
  },
  {
   "cell_type": "code",
   "execution_count": 8,
   "metadata": {},
   "outputs": [],
   "source": [
    "random_state = 100\n",
    "result_dict = {}\n",
    "for i in range(len(test_X)):\n",
    "    result_dict[i] = []\n",
    "for random_state in range(1, random_state):\n",
    "    X_train, X_test, y_train, y_test = train_test_split(x_list, y_list, test_size=0.33, random_state=random_state)\n",
    "    classifier = LabelPowerset(GaussianNB())\n",
    "    classifier.fit(X_train, y_train)\n",
    "    y_test_pred = classifier.predict(x_list_test)\n",
    "    y_pred_ids = decode_func(y_test_pred)\n",
    "    output = pd.DataFrame(columns=[\"Id\", \"Predict\"])\n",
    "    output['Id'] = range(len(y_pred_ids))\n",
    "    output[\"Predict\"] = y_pred_ids\n",
    "    for index, row in output.iterrows():\n",
    "        result_dict[index].append(row['Predict'])"
   ]
  },
  {
   "cell_type": "code",
   "execution_count": 9,
   "metadata": {},
   "outputs": [],
   "source": [
    "output_list = []\n",
    "for i in range(len(result_dict)):\n",
    "    counter = collections.Counter(result_dict[i])\n",
    "    output_list.append(counter.most_common(1)[0][0])\n",
    "convert_to_csv(output_list)"
   ]
  }
 ],
 "metadata": {
  "kernelspec": {
   "display_name": "Python 3.9.12 ('base')",
   "language": "python",
   "name": "python3"
  },
  "language_info": {
   "codemirror_mode": {
    "name": "ipython",
    "version": 3
   },
   "file_extension": ".py",
   "mimetype": "text/x-python",
   "name": "python",
   "nbconvert_exporter": "python",
   "pygments_lexer": "ipython3",
   "version": "3.9.12"
  },
  "orig_nbformat": 4,
  "vscode": {
   "interpreter": {
    "hash": "40d3a090f54c6569ab1632332b64b2c03c39dcf918b08424e98f38b5ae0af88f"
   }
  }
 },
 "nbformat": 4,
 "nbformat_minor": 2
}
