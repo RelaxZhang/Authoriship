{
 "cells": [
  {
   "cell_type": "code",
   "execution_count": 1,
   "metadata": {},
   "outputs": [],
   "source": [
    "import json\n",
    "import numpy as np\n",
    "from numpy import mean\n",
    "import pandas as pd\n",
    "import matplotlib.pyplot as plt\n",
    "from sklearn.neural_network import MLPClassifier\n",
    "from skmultilearn.problem_transform import LabelPowerset, BinaryRelevance, ClassifierChain\n",
    "from sklearn.naive_bayes import GaussianNB, MultinomialNB, BernoulliNB, CategoricalNB\n",
    "from sklearn.svm import SVC\n",
    "import collections\n",
    "from math import log10\n",
    "from scipy.spatial.distance import cdist\n",
    "from sklearn.cluster import KMeans\n",
    "from sklearn.model_selection import train_test_split\n",
    "from sklearn.metrics import accuracy_score, hamming_loss, f1_score\n",
    "from SMLP2_Func import generate_coauthors, onehot_func, coauthors_onehot, decode_func, convert_to_csv"
   ]
  },
  {
   "cell_type": "markdown",
   "metadata": {},
   "source": [
    "## Read in Training and Test Data as Dataframe"
   ]
  },
  {
   "cell_type": "code",
   "execution_count": 2,
   "metadata": {},
   "outputs": [],
   "source": [
    "f = open('train.json')\n",
    "train_data = json.load(f)\n",
    "train_X = pd.DataFrame(columns=[\"year\", \"venue\", \"title\", \"abstract\"])\n",
    "train_y = pd.DataFrame(columns=[\"authors\"])\n",
    "authors_list = []\n",
    "year_list = []\n",
    "venue_list = []\n",
    "title_list = []\n",
    "abstract_list = []\n",
    "for i in range(len(train_data)): \n",
    "    authors_list.append(np.array(train_data[i]['authors']))\n",
    "    year_list.append(np.array(train_data[i]['year']))\n",
    "    venue_list.append(np.array(train_data[i]['venue']))\n",
    "    title_list.append(np.array(train_data[i]['title']))\n",
    "    abstract_list.append(np.array(train_data[i]['abstract']))\n",
    "\n",
    "train_y[\"authors\"] = authors_list\n",
    "train_X[\"year\"] = year_list\n",
    "train_X[\"venue\"] = venue_list\n",
    "train_X[\"title\"] = title_list\n",
    "train_X[\"abstract\"] = abstract_list"
   ]
  },
  {
   "cell_type": "code",
   "execution_count": 3,
   "metadata": {},
   "outputs": [],
   "source": [
    "f = open('test.json')\n",
    "test_data = json.load(f)\n",
    "test_X = pd.DataFrame(columns=[\"year\", \"venue\", \"title\", \"abstract\"])\n",
    "coauthors_list = []\n",
    "year_list = []\n",
    "venue_list = []\n",
    "title_list = []\n",
    "abstract_list = []\n",
    "for i in range(len(test_data)): \n",
    "    coauthors_list.append(np.array(test_data[i]['coauthors']))\n",
    "    year_list.append(np.array(test_data[i]['year']))\n",
    "    venue_list.append(np.array(test_data[i]['venue']))\n",
    "    title_list.append(np.array(test_data[i]['title']))\n",
    "    abstract_list.append(np.array(test_data[i]['abstract']))\n",
    "\n",
    "test_X[\"year\"] = year_list\n",
    "test_X[\"venue\"] = venue_list\n",
    "test_X[\"title\"] = title_list\n",
    "test_X[\"abstract\"] = abstract_list\n",
    "test_X[\"coauthors\"] = coauthors_list"
   ]
  },
  {
   "cell_type": "markdown",
   "metadata": {},
   "source": [
    "## Define Variables"
   ]
  },
  {
   "cell_type": "code",
   "execution_count": 4,
   "metadata": {},
   "outputs": [],
   "source": [
    "wordbag_len = 4999\n",
    "authors_num = 21245\n",
    "prolific_num = 100\n",
    "venue_num = 465"
   ]
  },
  {
   "cell_type": "markdown",
   "metadata": {},
   "source": [
    "## Splitting Authors' list into Response (Profilic Authors) & Predictors (Co-Authors)"
   ]
  },
  {
   "cell_type": "code",
   "execution_count": 5,
   "metadata": {},
   "outputs": [],
   "source": [
    "prolific_authors_list = []\n",
    "coauthors_list = []\n",
    "for authors in authors_list:\n",
    "    prolific_authors, coauthors = generate_coauthors(authors)\n",
    "    prolific_authors_list.append(prolific_authors)\n",
    "    coauthors_list.append(coauthors)\n",
    "\n",
    "train_y[\"authors\"] = prolific_authors_list\n",
    "train_X[\"coauthors\"] = coauthors_list"
   ]
  },
  {
   "cell_type": "code",
   "execution_count": 6,
   "metadata": {},
   "outputs": [],
   "source": [
    "def get_threhold(venue_list, instance_amount): \n",
    "    freq_dict = {}\n",
    "    for venue in venue_list: \n",
    "        # only consider non-empty venue \n",
    "        if venue.dtype != '<U1': \n",
    "            if int(venue) in freq_dict: \n",
    "                freq_dict[int(venue)] = freq_dict[int(venue)] + 1\n",
    "            else: \n",
    "                freq_dict[int(venue)] = 1\n",
    "    sorted_d = {k: v for k, v in sorted(freq_dict.items(), key=lambda item: item[1], reverse=True)}\n",
    "    \n",
    "    return list(sorted_d.items())[0][1] / instance_amount\n",
    "\n",
    "threhold = get_threhold(list(train_X[\"venue\"].values), len(train_X[\"venue\"]))"
   ]
  },
  {
   "cell_type": "code",
   "execution_count": 7,
   "metadata": {},
   "outputs": [],
   "source": [
    "def get_import_word(train_X, type, threhold): \n",
    "    freq_dict = {}\n",
    "    lst = list(train_X[type])\n",
    "    for i in lst: \n",
    "        for j in list(set(i)): \n",
    "            if j in freq_dict: \n",
    "                freq_dict[j] += 1\n",
    "            else: \n",
    "                freq_dict[j] = 1\n",
    "    deleted_words = []\n",
    "    for k in freq_dict: \n",
    "        if freq_dict[k] / len(train_X) > threhold: \n",
    "            deleted_words.append(k)\n",
    "    return deleted_words\n",
    "deleted_words = get_import_word(train_X, \"title\", threhold)\n",
    "deleted_words = get_import_word(train_X, \"abstract\", threhold)"
   ]
  },
  {
   "cell_type": "code",
   "execution_count": 8,
   "metadata": {},
   "outputs": [],
   "source": [
    "# Drop comment words (stop-word) for both training and test set\n",
    "for i in range(len(train_X['title'])):\n",
    "    train_X['title'][i] = [word for word in train_X['title'][i] if word not in deleted_words]\n",
    "for i in range(len(train_X['abstract'])):\n",
    "    train_X['abstract'][i] = [word for word in train_X['abstract'][i] if word not in deleted_words]\n",
    "for i in range(len(test_X['title'])):\n",
    "    test_X['title'][i] = [word for word in test_X['title'][i] if word not in deleted_words]\n",
    "for i in range(len(test_X['abstract'])):\n",
    "    test_X['abstract'][i] = [word for word in test_X['abstract'][i] if word not in deleted_words]"
   ]
  },
  {
   "cell_type": "code",
   "execution_count": 9,
   "metadata": {},
   "outputs": [],
   "source": [
    "'''Function for Capturing the maximum length of the selected feature's element'''\n",
    "def feature_max_len(feature, train_data, test_data):\n",
    "    max_length = 0\n",
    "    for i in range(train_X.shape[0]):\n",
    "        if len(train_X[feature][i]) >= max_length:\n",
    "            max_length = len(train_X[feature][i])\n",
    "    for i in range(test_X.shape[0]):\n",
    "        if len(test_X[feature][i]) >= max_length:\n",
    "            max_length = len(test_X[feature][i])\n",
    "    return max_length\n",
    "title_len = feature_max_len(\"title\", train_X, test_X)\n",
    "abstract_len = feature_max_len(\"abstract\", train_X, test_X)"
   ]
  },
  {
   "cell_type": "markdown",
   "metadata": {},
   "source": [
    "## Convert Features 'title', 'abstract', 'coauthors' & 'authors' into One-hot Encoding Style"
   ]
  },
  {
   "cell_type": "code",
   "execution_count": 10,
   "metadata": {},
   "outputs": [],
   "source": [
    "train_X = onehot_func(wordbag_len, train_X, \"title\")\n",
    "train_X = onehot_func(wordbag_len, train_X, \"abstract\")\n",
    "train_X = onehot_func(authors_num, train_X, \"coauthors\")\n",
    "train_X = coauthors_onehot(prolific_num, train_X, \"coauthors\")\n",
    "train_X = onehot_func(venue_num, train_X, \"venue\")\n",
    "train_y = onehot_func(prolific_num, train_y, \"authors\")\n",
    "\n",
    "test_X = onehot_func(wordbag_len, test_X, \"title\")\n",
    "test_X = onehot_func(wordbag_len, test_X, \"abstract\")\n",
    "test_X = onehot_func(authors_num, test_X, \"coauthors\")\n",
    "test_X = coauthors_onehot(prolific_num, test_X, \"coauthors\")\n",
    "test_X = onehot_func(venue_num, test_X, \"venue\")"
   ]
  },
  {
   "cell_type": "code",
   "execution_count": 11,
   "metadata": {},
   "outputs": [],
   "source": [
    "# empty_row = []\n",
    "# for i in range(len(train_y['authors'])):\n",
    "#     if sum(train_y['authors'][i]) == 0:\n",
    "#         empty_row.append(i)\n",
    "# train_y_empty = train_y.iloc[empty_row]\n",
    "# train_y_empty = train_y_empty.sample(n = 6000)\n",
    "# indexdrop = train_y_empty.index\n",
    "# train_y.drop(indexdrop, axis = 0, inplace = True)\n",
    "# train_X.drop(indexdrop, axis = 0, inplace = True)"
   ]
  },
  {
   "cell_type": "code",
   "execution_count": 12,
   "metadata": {},
   "outputs": [],
   "source": [
    "coauthors_list = []\n",
    "for title in np.array(train_X['abstract']): \n",
    "    coauthors_list.append(list(title))\n",
    "x_list_title = np.array(coauthors_list)\n",
    "\n",
    "coauthors_list = []\n",
    "for title in np.array(test_X['abstract']): \n",
    "    coauthors_list.append(list(title))\n",
    "x_list_test_title = np.array(coauthors_list)\n",
    "\n",
    "coauthors_list = []\n",
    "for title in np.array(train_X['coauthors']): \n",
    "    coauthors_list.append(list(title))\n",
    "x_list = np.array(coauthors_list)\n",
    "\n",
    "y_list = []\n",
    "for title in np.array(train_y['authors']): \n",
    "    y_list.append(list(title))\n",
    "y_list = np.array(y_list)\n",
    "\n",
    "coauthors_list_test = []\n",
    "for title in np.array(test_X['coauthors']): \n",
    "    coauthors_list_test.append(list(title))\n",
    "x_list_test = np.array(coauthors_list_test)"
   ]
  },
  {
   "cell_type": "code",
   "execution_count": 16,
   "metadata": {},
   "outputs": [
    {
     "data": {
      "image/png": "[encoded data removed]",
      "text/plain": [
       "<Figure size 432x288 with 1 Axes>"
      ]
     },
     "metadata": {
      "needs_background": "light"
     },
     "output_type": "display_data"
    }
   ],
   "source": [
    "K = range(2, 100)\n",
    "distortions = []\n",
    "inertias = []\n",
    "mapping1 = {}\n",
    "mapping2 = {}\n",
    "\n",
    "# Select the best K amount of Clusters\n",
    "for k in K:\n",
    "    # Building and fitting the model\n",
    "    kmeanModel = KMeans(n_clusters=k, random_state=0).fit(x_list)\n",
    "    distortions.append(sum(np.min(cdist(x_list, kmeanModel.cluster_centers_, 'euclidean'), axis=1)) / x_list.shape[0])\n",
    "    inertias.append(kmeanModel.inertia_)\n",
    "    mapping1[k] = sum(np.min(cdist(x_list, kmeanModel.cluster_centers_, 'euclidean'), axis=1)) / x_list.shape[0]\n",
    "    mapping2[k] = kmeanModel.inertia_\n",
    "\n",
    "plt.plot(K, distortions, 'bx-')\n",
    "plt.xlabel('Values of K')\n",
    "plt.ylabel('Distortion')\n",
    "plt.title('The Elbow Method using Distortion')\n",
    "plt.show()"
   ]
  },
  {
   "cell_type": "code",
   "execution_count": 17,
   "metadata": {},
   "outputs": [],
   "source": [
    "best_K = 99\n",
    "k_best_Model = KMeans(n_clusters=best_K, random_state=0).fit(x_list)\n",
    "model_list = []\n",
    "for i in range(best_K):\n",
    "    cluster_index = np.where(k_best_Model.labels_ == i)[0].tolist()\n",
    "    cluster_x = x_list[cluster_index]\n",
    "    cluster_y = y_list[cluster_index]\n",
    "    classifier = LabelPowerset(GaussianNB())\n",
    "    model_list.append(classifier.fit(cluster_x, cluster_y))"
   ]
  },
  {
   "cell_type": "code",
   "execution_count": 18,
   "metadata": {},
   "outputs": [],
   "source": [
    "pred_cluster = k_best_Model.predict(x_list_test)\n",
    "result_list = []\n",
    "for i in range(len(pred_cluster)):\n",
    "    y_pred = model_list[pred_cluster[i]].predict([x_list_test[i]])\n",
    "    result_list.append(decode_func(y_pred)[0])\n",
    "convert_to_csv(result_list)"
   ]
  }
 ],
 "metadata": {
  "kernelspec": {
   "display_name": "Python 3.9.12 ('base')",
   "language": "python",
   "name": "python3"
  },
  "language_info": {
   "codemirror_mode": {
    "name": "ipython",
    "version": 3
   },
   "file_extension": ".py",
   "mimetype": "text/x-python",
   "name": "python",
   "nbconvert_exporter": "python",
   "pygments_lexer": "ipython3",
   "version": "3.9.12"
  },
  "orig_nbformat": 4,
  "vscode": {
   "interpreter": {
    "hash": "40d3a090f54c6569ab1632332b64b2c03c39dcf918b08424e98f38b5ae0af88f"
   }
  }
 },
 "nbformat": 4,
 "nbformat_minor": 2
}
