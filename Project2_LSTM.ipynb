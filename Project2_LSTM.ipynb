{
 "cells": [
  {
   "cell_type": "code",
   "execution_count": 1,
   "metadata": {},
   "outputs": [],
   "source": [
    "import json\n",
    "import numpy as np\n",
    "from numpy import mean\n",
    "import pandas as pd\n",
    "import matplotlib.pyplot as plt\n",
    "from sklearn.neural_network import MLPClassifier\n",
    "from skmultilearn.problem_transform import LabelPowerset, BinaryRelevance, ClassifierChain\n",
    "from sklearn.naive_bayes import GaussianNB, MultinomialNB, BernoulliNB, CategoricalNB\n",
    "from sklearn.svm import SVC\n",
    "import collections\n",
    "from math import log10\n",
    "import keras_tuner\n",
    "from keras.callbacks import EarlyStopping\n",
    "from keras.layers import Dense, Embedding, LSTM, SpatialDropout1D\n",
    "from keras.layers import Dense\n",
    "from keras.models import Sequential\n",
    "import tensorflow as tf\n",
    "from sklearn.model_selection import train_test_split\n",
    "from sklearn.metrics import accuracy_score, hamming_loss, f1_score\n",
    "from SMLP2_Func import generate_coauthors, onehot_func, coauthors_onehot, decode_func, convert_to_csv\n",
    "from keras.preprocessing.text import Tokenizer\n",
    "from tensorflow.keras.preprocessing.sequence import pad_sequences"
   ]
  },
  {
   "cell_type": "markdown",
   "metadata": {},
   "source": [
    "## Read in Training and Test Data as Dataframe"
   ]
  },
  {
   "cell_type": "code",
   "execution_count": 2,
   "metadata": {},
   "outputs": [],
   "source": [
    "f = open('train.json')\n",
    "train_data = json.load(f)\n",
    "train_X = pd.DataFrame(columns=[\"year\", \"venue\", \"title\", \"abstract\"])\n",
    "train_y = pd.DataFrame(columns=[\"authors\"])\n",
    "authors_list = []\n",
    "year_list = []\n",
    "venue_list = []\n",
    "title_list = []\n",
    "abstract_list = []\n",
    "for i in range(len(train_data)): \n",
    "    authors_list.append(np.array(train_data[i]['authors']))\n",
    "    year_list.append(np.array(train_data[i]['year']))\n",
    "    venue_list.append(np.array(train_data[i]['venue']))\n",
    "    title_list.append(np.array(train_data[i]['title']))\n",
    "    abstract_list.append(np.array(train_data[i]['abstract']))\n",
    "train_y[\"authors\"] = authors_list\n",
    "train_X[\"year\"] = year_list\n",
    "train_X[\"venue\"] = venue_list\n",
    "train_X[\"title\"] = title_list\n",
    "train_X[\"abstract\"] = abstract_list"
   ]
  },
  {
   "cell_type": "code",
   "execution_count": 3,
   "metadata": {},
   "outputs": [],
   "source": [
    "f = open('test.json')\n",
    "test_data = json.load(f)\n",
    "test_X = pd.DataFrame(columns=[\"year\", \"venue\", \"title\", \"abstract\"])\n",
    "coauthors_list = []\n",
    "year_list = []\n",
    "venue_list = []\n",
    "title_list = []\n",
    "abstract_list = []\n",
    "for i in range(len(test_data)): \n",
    "    coauthors_list.append(np.array(test_data[i]['coauthors']))\n",
    "    year_list.append(np.array(test_data[i]['year']))\n",
    "    venue_list.append(np.array(test_data[i]['venue']))\n",
    "    title_list.append(np.array(test_data[i]['title']))\n",
    "    abstract_list.append(np.array(test_data[i]['abstract']))\n",
    "test_X[\"year\"] = year_list\n",
    "test_X[\"venue\"] = venue_list\n",
    "test_X[\"title\"] = title_list\n",
    "test_X[\"abstract\"] = abstract_list\n",
    "test_X[\"coauthors\"] = coauthors_list"
   ]
  },
  {
   "cell_type": "markdown",
   "metadata": {},
   "source": [
    "## Define Variables"
   ]
  },
  {
   "cell_type": "code",
   "execution_count": 4,
   "metadata": {},
   "outputs": [],
   "source": [
    "wordbag_len = 4999\n",
    "authors_num = 21245\n",
    "prolific_num = 100\n",
    "venue_num = 465"
   ]
  },
  {
   "cell_type": "markdown",
   "metadata": {},
   "source": [
    "## Splitting Authors' list into Response (Profilic Authors) & Predictors (Co-Authors)"
   ]
  },
  {
   "cell_type": "code",
   "execution_count": 5,
   "metadata": {},
   "outputs": [],
   "source": [
    "prolific_authors_list = []\n",
    "coauthors_list = []\n",
    "for authors in authors_list:\n",
    "    prolific_authors, coauthors = generate_coauthors(authors)\n",
    "    prolific_authors_list.append(prolific_authors)\n",
    "    coauthors_list.append(coauthors)\n",
    "\n",
    "train_y[\"authors\"] = prolific_authors_list\n",
    "train_X[\"coauthors\"] = coauthors_list"
   ]
  },
  {
   "cell_type": "markdown",
   "metadata": {},
   "source": [
    "## Convert Features 'title', 'abstract', 'coauthors' & 'authors' into One-hot Encoding Style"
   ]
  },
  {
   "cell_type": "code",
   "execution_count": 6,
   "metadata": {},
   "outputs": [],
   "source": [
    "# train_X = onehot_func(wordbag_len, train_X, \"title\")\n",
    "# train_X = onehot_func(wordbag_len, train_X, \"abstract\")\n",
    "train_X = onehot_func(authors_num, train_X, \"coauthors\")\n",
    "train_X = coauthors_onehot(prolific_num, train_X, \"coauthors\")\n",
    "# train_X = onehot_func(venue_num, train_X, \"venue\")\n",
    "train_y = onehot_func(prolific_num, train_y, \"authors\")\n",
    "\n",
    "# test_X = onehot_func(wordbag_len, test_X, \"title\")\n",
    "# test_X = onehot_func(wordbag_len, test_X, \"abstract\")\n",
    "test_X = onehot_func(authors_num, test_X, \"coauthors\")\n",
    "test_X = coauthors_onehot(prolific_num, test_X, \"coauthors\")\n",
    "# test_X = onehot_func(venue_num, test_X, \"venue\")"
   ]
  },
  {
   "cell_type": "code",
   "execution_count": 7,
   "metadata": {},
   "outputs": [],
   "source": [
    "'''Function for Capturing the maximum length of the selected feature's element'''\n",
    "def feature_max_len(feature, train_data, test_data):\n",
    "    max_length = 0\n",
    "    for i in range(train_X.shape[0]):\n",
    "        if len(train_X[feature][i]) >= max_length:\n",
    "            max_length = len(train_X[feature][i])\n",
    "    for i in range(test_X.shape[0]):\n",
    "        if len(test_X[feature][i]) >= max_length:\n",
    "            max_length = len(test_X[feature][i])\n",
    "    return max_length\n",
    "title_len = feature_max_len(\"title\", train_X, test_X)\n",
    "abstract_len = feature_max_len(\"abstract\", train_X, test_X)"
   ]
  },
  {
   "cell_type": "code",
   "execution_count": 8,
   "metadata": {},
   "outputs": [],
   "source": [
    "'''Function for padding feature's element with maximum length value'''\n",
    "def feature_pad(feature, train_data, test_data, max_len):\n",
    "    for i in range(train_data.shape[0]):\n",
    "        A = train_data[feature][i]\n",
    "        train_data[feature][i] = np.pad(A, (0, max_len - len(A)), 'constant')\n",
    "    for i in range(test_data.shape[0]):\n",
    "        A = test_data[feature][i]\n",
    "        test_data[feature][i] = np.pad(A, (0, max_len - len(A)), 'constant')\n",
    "    return train_data, test_data   \n",
    "train_X, test_X = feature_pad(\"title\", train_X, test_X, title_len)\n",
    "train_X, test_X = feature_pad(\"abstract\", train_X, test_X, abstract_len)"
   ]
  },
  {
   "cell_type": "code",
   "execution_count": 9,
   "metadata": {},
   "outputs": [],
   "source": [
    "'''Function for converting the dataframe into a 2D np.array for model fitting'''\n",
    "def fit_structure(data, feature):\n",
    "    struct_list = []\n",
    "    for title in np.array(data[feature]): \n",
    "        struct_list.append(list(title))\n",
    "    out_list = np.array(struct_list)\n",
    "    return out_list\n",
    "train_title_list = fit_structure(train_X, \"title\")\n",
    "train_abstract_list = fit_structure(train_X, \"abstract\")\n",
    "train_coauthor_list = fit_structure(train_X, \"coauthors\")\n",
    "train_author_list = fit_structure(train_y, \"authors\")\n",
    "test_title_list = fit_structure(test_X, \"title\")\n",
    "test_abstract_list = fit_structure(test_X, \"abstract\")\n",
    "test_coauthor_list = fit_structure(test_X, \"coauthors\")"
   ]
  },
  {
   "cell_type": "code",
   "execution_count": 10,
   "metadata": {},
   "outputs": [
    {
     "name": "stdout",
     "output_type": "stream",
     "text": [
      "(25793, 127) (25793, 100)\n",
      "(2580, 127) (2580, 100)\n"
     ]
    }
   ],
   "source": [
    "X_train, X_test, Y_train, Y_test = train_test_split(train_title_list, train_author_list, test_size = 0.1, random_state = 42)\n",
    "print(train_title_list.shape,train_author_list.shape)\n",
    "print(X_test.shape,Y_test.shape)"
   ]
  },
  {
   "cell_type": "code",
   "execution_count": 11,
   "metadata": {},
   "outputs": [
    {
     "name": "stdout",
     "output_type": "stream",
     "text": [
      "Metal device set to: Apple M1 Pro\n",
      "\n",
      "systemMemory: 16.00 GB\n",
      "maxCacheSize: 5.33 GB\n",
      "\n",
      "WARNING:tensorflow:Layer lstm will not use cuDNN kernels since it doesn't meet the criteria. It will use a generic GPU kernel as fallback when running on GPU.\n",
      "Model: \"sequential\"\n",
      "_________________________________________________________________\n",
      " Layer (type)                Output Shape              Param #   \n",
      "=================================================================\n",
      " embedding (Embedding)       (None, 127, 100)          12700     \n",
      "                                                                 \n",
      " spatial_dropout1d (SpatialD  (None, 127, 100)         0         \n",
      " ropout1D)                                                       \n",
      "                                                                 \n",
      " lstm (LSTM)                 (None, 200)               240800    \n",
      "                                                                 \n",
      " dense (Dense)               (None, 100)               20100     \n",
      "                                                                 \n",
      "=================================================================\n",
      "Total params: 273,600\n",
      "Trainable params: 273,600\n",
      "Non-trainable params: 0\n",
      "_________________________________________________________________\n",
      "None\n"
     ]
    },
    {
     "name": "stderr",
     "output_type": "stream",
     "text": [
      "2022-10-04 21:28:03.359109: I tensorflow/core/common_runtime/pluggable_device/pluggable_device_factory.cc:305] Could not identify NUMA node of platform GPU ID 0, defaulting to 0. Your kernel may not have been built with NUMA support.\n",
      "2022-10-04 21:28:03.359440: I tensorflow/core/common_runtime/pluggable_device/pluggable_device_factory.cc:271] Created TensorFlow device (/job:localhost/replica:0/task:0/device:GPU:0 with 0 MB memory) -> physical PluggableDevice (device: 0, name: METAL, pci bus id: <undefined>)\n"
     ]
    }
   ],
   "source": [
    "model = Sequential()\n",
    "model.add(Embedding(127, 100, input_length=train_title_list.shape[1]))\n",
    "model.add(SpatialDropout1D(0.1))\n",
    "model.add(LSTM(200, dropout=0.1, recurrent_dropout=0.2))\n",
    "model.add(Dense(100, activation='sigmoid'))\n",
    "model.compile(loss='categorical_crossentropy', optimizer='adam', metrics=['AUC'])\n",
    "print(model.summary())"
   ]
  },
  {
   "cell_type": "code",
   "execution_count": 13,
   "metadata": {},
   "outputs": [
    {
     "name": "stdout",
     "output_type": "stream",
     "text": [
      "Epoch 1/2\n",
      "  9/363 [..............................] - ETA: 3:24:08 - loss: 1.4578 - auc: 0.5000"
     ]
    }
   ],
   "source": [
    "batch_size = 64\n",
    "epochs = 2\n",
    "history = model.fit(train_title_list, train_author_list, epochs=epochs, batch_size = batch_size, validation_split=0.1)"
   ]
  }
 ],
 "metadata": {
  "kernelspec": {
   "display_name": "Python 3.9.12 ('base')",
   "language": "python",
   "name": "python3"
  },
  "language_info": {
   "codemirror_mode": {
    "name": "ipython",
    "version": 3
   },
   "file_extension": ".py",
   "mimetype": "text/x-python",
   "name": "python",
   "nbconvert_exporter": "python",
   "pygments_lexer": "ipython3",
   "version": "3.9.12"
  },
  "orig_nbformat": 4,
  "vscode": {
   "interpreter": {
    "hash": "40d3a090f54c6569ab1632332b64b2c03c39dcf918b08424e98f38b5ae0af88f"
   }
  }
 },
 "nbformat": 4,
 "nbformat_minor": 2
}
